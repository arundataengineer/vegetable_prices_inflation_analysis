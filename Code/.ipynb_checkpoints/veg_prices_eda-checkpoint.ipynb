{
 "cells": [
  {
   "cell_type": "code",
   "execution_count": 1,
   "id": "c78cff2c",
   "metadata": {},
   "outputs": [],
   "source": [
    "# importing the library\n",
    "\n",
    "import os\n",
    "import pandas as pd\n",
    "import numpy as np\n",
    "import matplotlib.pylab as plt\n",
    "import seaborn as sns"
   ]
  },
  {
   "cell_type": "code",
   "execution_count": 2,
   "id": "e2b3a443",
   "metadata": {},
   "outputs": [],
   "source": [
    "# import the file to pandas\n",
    "prices_file_info = r'C:\\Users\\Arun Raja\\OneDrive\\Desktop\\Python_Training\\vegetable_prices_inflation_analysis\\vegetable_prices_inflation_analysis\\Vegetable_Purchase\\vegetable_prices.csv'\n"
   ]
  },
  {
   "cell_type": "code",
   "execution_count": 16,
   "id": "573be14d",
   "metadata": {},
   "outputs": [
    {
     "data": {
      "text/html": [
       "<div>\n",
       "<style scoped>\n",
       "    .dataframe tbody tr th:only-of-type {\n",
       "        vertical-align: middle;\n",
       "    }\n",
       "\n",
       "    .dataframe tbody tr th {\n",
       "        vertical-align: top;\n",
       "    }\n",
       "\n",
       "    .dataframe thead th {\n",
       "        text-align: right;\n",
       "    }\n",
       "</style>\n",
       "<table border=\"1\" class=\"dataframe\">\n",
       "  <thead>\n",
       "    <tr style=\"text-align: right;\">\n",
       "      <th></th>\n",
       "      <th>Date</th>\n",
       "      <th>Vegetable</th>\n",
       "      <th>Price</th>\n",
       "      <th>Units_KG</th>\n",
       "    </tr>\n",
       "  </thead>\n",
       "  <tbody>\n",
       "    <tr>\n",
       "      <th>0</th>\n",
       "      <td>01-Jan-23</td>\n",
       "      <td>Onion Big</td>\n",
       "      <td>30</td>\n",
       "      <td>1</td>\n",
       "    </tr>\n",
       "    <tr>\n",
       "      <th>1</th>\n",
       "      <td>01-Jan-23</td>\n",
       "      <td>Onion Small</td>\n",
       "      <td>90</td>\n",
       "      <td>1</td>\n",
       "    </tr>\n",
       "    <tr>\n",
       "      <th>2</th>\n",
       "      <td>01-Jan-23</td>\n",
       "      <td>Tomato</td>\n",
       "      <td>17</td>\n",
       "      <td>1</td>\n",
       "    </tr>\n",
       "    <tr>\n",
       "      <th>3</th>\n",
       "      <td>01-Jan-23</td>\n",
       "      <td>Green Chilli</td>\n",
       "      <td>25</td>\n",
       "      <td>1</td>\n",
       "    </tr>\n",
       "    <tr>\n",
       "      <th>4</th>\n",
       "      <td>01-Jan-23</td>\n",
       "      <td>Beetroot</td>\n",
       "      <td>35</td>\n",
       "      <td>1</td>\n",
       "    </tr>\n",
       "  </tbody>\n",
       "</table>\n",
       "</div>"
      ],
      "text/plain": [
       "        Date     Vegetable  Price  Units_KG\n",
       "0  01-Jan-23     Onion Big     30         1\n",
       "1  01-Jan-23   Onion Small     90         1\n",
       "2  01-Jan-23        Tomato     17         1\n",
       "3  01-Jan-23  Green Chilli     25         1\n",
       "4  01-Jan-23      Beetroot     35         1"
      ]
     },
     "execution_count": 16,
     "metadata": {},
     "output_type": "execute_result"
    }
   ],
   "source": [
    "# Creating a DF from the file\n",
    "prices_df = pd.read_csv(filepath_or_buffer = prices_file_info)\n",
    "prices_df.head()"
   ]
  },
  {
   "cell_type": "code",
   "execution_count": 4,
   "id": "dc1712f7",
   "metadata": {},
   "outputs": [
    {
     "data": {
      "text/html": [
       "<div>\n",
       "<style scoped>\n",
       "    .dataframe tbody tr th:only-of-type {\n",
       "        vertical-align: middle;\n",
       "    }\n",
       "\n",
       "    .dataframe tbody tr th {\n",
       "        vertical-align: top;\n",
       "    }\n",
       "\n",
       "    .dataframe thead th {\n",
       "        text-align: right;\n",
       "    }\n",
       "</style>\n",
       "<table border=\"1\" class=\"dataframe\">\n",
       "  <thead>\n",
       "    <tr style=\"text-align: right;\">\n",
       "      <th></th>\n",
       "      <th>Date</th>\n",
       "      <th>Vegetable</th>\n",
       "      <th>Price</th>\n",
       "      <th>Units_KG</th>\n",
       "    </tr>\n",
       "  </thead>\n",
       "  <tbody>\n",
       "    <tr>\n",
       "      <th>67</th>\n",
       "      <td>01-Dec-23</td>\n",
       "      <td>Onion Small</td>\n",
       "      <td>80</td>\n",
       "      <td>1</td>\n",
       "    </tr>\n",
       "    <tr>\n",
       "      <th>68</th>\n",
       "      <td>01-Dec-23</td>\n",
       "      <td>Tomato</td>\n",
       "      <td>40</td>\n",
       "      <td>1</td>\n",
       "    </tr>\n",
       "    <tr>\n",
       "      <th>69</th>\n",
       "      <td>01-Dec-23</td>\n",
       "      <td>Green Chilli</td>\n",
       "      <td>25</td>\n",
       "      <td>1</td>\n",
       "    </tr>\n",
       "    <tr>\n",
       "      <th>70</th>\n",
       "      <td>01-Dec-23</td>\n",
       "      <td>Beetroot</td>\n",
       "      <td>35</td>\n",
       "      <td>1</td>\n",
       "    </tr>\n",
       "    <tr>\n",
       "      <th>71</th>\n",
       "      <td>01-Dec-23</td>\n",
       "      <td>Potato</td>\n",
       "      <td>30</td>\n",
       "      <td>1</td>\n",
       "    </tr>\n",
       "  </tbody>\n",
       "</table>\n",
       "</div>"
      ],
      "text/plain": [
       "         Date     Vegetable  Price  Units_KG\n",
       "67  01-Dec-23   Onion Small     80         1\n",
       "68  01-Dec-23        Tomato     40         1\n",
       "69  01-Dec-23  Green Chilli     25         1\n",
       "70  01-Dec-23      Beetroot     35         1\n",
       "71  01-Dec-23        Potato     30         1"
      ]
     },
     "execution_count": 4,
     "metadata": {},
     "output_type": "execute_result"
    }
   ],
   "source": [
    "prices_df.tail()"
   ]
  },
  {
   "cell_type": "code",
   "execution_count": 6,
   "id": "bf5b3791",
   "metadata": {},
   "outputs": [
    {
     "data": {
      "text/plain": [
       "Index(['Date', 'Vegetable', 'Price', 'Units_KG'], dtype='object')"
      ]
     },
     "execution_count": 6,
     "metadata": {},
     "output_type": "execute_result"
    }
   ],
   "source": [
    "#getting the field_info\n",
    "column_names = prices_df.columns\n",
    "column_names"
   ]
  },
  {
   "cell_type": "code",
   "execution_count": 9,
   "id": "a3f2f5c7",
   "metadata": {},
   "outputs": [
    {
     "data": {
      "text/plain": [
       "array(['01-Jan-23', '01-Feb-23', '01-Mar-23', '01-Apr-23', '01-May-23',\n",
       "       '01-Jun-23', '01-Jul-23', '01-Aug-23', '01-Sep-23', '01-Oct-23',\n",
       "       '01-Nov-23', '01-Dec-23'], dtype=object)"
      ]
     },
     "execution_count": 9,
     "metadata": {},
     "output_type": "execute_result"
    }
   ],
   "source": [
    "# Finding the unique values for date and vegetable fields\n",
    "prices_df['Date'].unique()"
   ]
  },
  {
   "cell_type": "code",
   "execution_count": 10,
   "id": "465ec200",
   "metadata": {},
   "outputs": [
    {
     "data": {
      "text/plain": [
       "array(['Onion Big', 'Onion Small', 'Tomato', 'Green Chilli', 'Beetroot',\n",
       "       'Potato'], dtype=object)"
      ]
     },
     "execution_count": 10,
     "metadata": {},
     "output_type": "execute_result"
    }
   ],
   "source": [
    "prices_df['Vegetable'].unique()"
   ]
  },
  {
   "cell_type": "code",
   "execution_count": 17,
   "id": "ba5b377a",
   "metadata": {},
   "outputs": [
    {
     "data": {
      "text/plain": [
       "Date         object\n",
       "Vegetable    object\n",
       "Price         int64\n",
       "Units_KG      int64\n",
       "dtype: object"
      ]
     },
     "execution_count": 17,
     "metadata": {},
     "output_type": "execute_result"
    }
   ],
   "source": [
    "# Checking the datatypes for all the fields\n",
    "prices_df.dtypes"
   ]
  },
  {
   "cell_type": "code",
   "execution_count": 12,
   "id": "f6422cfa",
   "metadata": {},
   "outputs": [],
   "source": [
    "# Converting the data type of Date field from object to Date\n",
    "prices_df['Date'] = pd.to_datetime(prices_df['Date'],dayfirst = True)"
   ]
  },
  {
   "cell_type": "code",
   "execution_count": 14,
   "id": "d045a27b",
   "metadata": {},
   "outputs": [],
   "source": [
    "# converting the data type of Vegetable field from object to string\n",
    "prices_df['Vegetable'] = prices_df['Vegetable'].astype(\"string\")"
   ]
  },
  {
   "cell_type": "code",
   "execution_count": 18,
   "id": "7238f27e",
   "metadata": {},
   "outputs": [
    {
     "data": {
      "text/plain": [
       "Date         object\n",
       "Vegetable    object\n",
       "Price         int64\n",
       "Units_KG      int64\n",
       "dtype: object"
      ]
     },
     "execution_count": 18,
     "metadata": {},
     "output_type": "execute_result"
    }
   ],
   "source": [
    "# Checking the datatypes for all the fields after the data type conversion\n",
    "prices_df.dtypes"
   ]
  },
  {
   "cell_type": "code",
   "execution_count": 22,
   "id": "6cf977ab",
   "metadata": {},
   "outputs": [
    {
     "data": {
      "text/plain": [
       "43.25"
      ]
     },
     "execution_count": 22,
     "metadata": {},
     "output_type": "execute_result"
    }
   ],
   "source": [
    "prices_df_new = prices_df.pivot(columns = 'Vegetable',index = 'Date',values = 'Price' )\n",
    "prices_df_new['Tomato'].mean()"
   ]
  },
  {
   "cell_type": "code",
   "execution_count": 23,
   "id": "26f10ba0",
   "metadata": {},
   "outputs": [
    {
     "data": {
      "text/plain": [
       "Index(['Beetroot', 'Green Chilli', 'Onion Big', 'Onion Small', 'Potato',\n",
       "       'Tomato'],\n",
       "      dtype='object', name='Vegetable')"
      ]
     },
     "execution_count": 23,
     "metadata": {},
     "output_type": "execute_result"
    }
   ],
   "source": [
    "prices_df_new.columns"
   ]
  },
  {
   "cell_type": "code",
   "execution_count": 24,
   "id": "d51ce8ea",
   "metadata": {},
   "outputs": [
    {
     "data": {
      "text/plain": [
       "Vegetable\n",
       "Beetroot        int64\n",
       "Green Chilli    int64\n",
       "Onion Big       int64\n",
       "Onion Small     int64\n",
       "Potato          int64\n",
       "Tomato          int64\n",
       "dtype: object"
      ]
     },
     "execution_count": 24,
     "metadata": {},
     "output_type": "execute_result"
    }
   ],
   "source": [
    "prices_df_new.dtypes"
   ]
  },
  {
   "cell_type": "code",
   "execution_count": 26,
   "id": "fc1e20b8",
   "metadata": {},
   "outputs": [
    {
     "data": {
      "text/plain": [
       "<AxesSubplot:xlabel='Vegetable', ylabel='Vegetable'>"
      ]
     },
     "execution_count": 26,
     "metadata": {},
     "output_type": "execute_result"
    },
    {
     "data": {
      "image/png": "[encoded data removed]",
      "text/plain": [
       "<Figure size 640x480 with 2 Axes>"
      ]
     },
     "metadata": {},
     "output_type": "display_data"
    }
   ],
   "source": [
    "# Relationship analysis\n",
    "corelation = prices_df_new.corr()\n",
    "sns.heatmap(corelation,xticklabels = corelation.columns, yticklabels = corelation.columns, annot = True)"
   ]
  },
  {
   "cell_type": "code",
   "execution_count": null,
   "id": "d456d37c",
   "metadata": {},
   "outputs": [],
   "source": []
  }
 ],
 "metadata": {
  "kernelspec": {
   "display_name": "Python 3 (ipykernel)",
   "language": "python",
   "name": "python3"
  },
  "language_info": {
   "codemirror_mode": {
    "name": "ipython",
    "version": 3
   },
   "file_extension": ".py",
   "mimetype": "text/x-python",
   "name": "python",
   "nbconvert_exporter": "python",
   "pygments_lexer": "ipython3",
   "version": "3.9.13"
  }
 },
 "nbformat": 4,
 "nbformat_minor": 5
}
